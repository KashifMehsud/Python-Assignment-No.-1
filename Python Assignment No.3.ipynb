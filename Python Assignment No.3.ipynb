{
 "cells": [
  {
   "cell_type": "code",
   "execution_count": 3,
   "metadata": {},
   "outputs": [
    {
     "name": "stdout",
     "output_type": "stream",
     "text": [
      "Enter your first value: 15\n",
      "Enter your second value: 35\n",
      "\n",
      "Enter 1 to do addition :\n",
      "Enter 2 to do subtraction :\n",
      "Enter 3 to do multiplication :\n",
      "Enter 4 to do division :\n",
      "Enter 5 to do power: \n",
      "Enter your choice: 3\n",
      "\n",
      "Answer : 525\n"
     ]
    }
   ],
   "source": [
    "sum = None\n",
    "num_1 = int(input(\"Enter your first value: \"))\n",
    "num_2 = int(input(\"Enter your second value: \"))\n",
    "\n",
    "print(\"\\nEnter 1 to do addition :\")\n",
    "print(\"Enter 2 to do subtraction :\")\n",
    "print(\"Enter 3 to do multiplication :\")\n",
    "print(\"Enter 4 to do division :\")\n",
    "print(\"Enter 5 to do power: \")\n",
    "choice = int(input(\"Enter your choice: \"))\n",
    "\n",
    "if choice == 1:\n",
    "    sum = num_1+num_2\n",
    "elif choice == 2:\n",
    "    sum = num_1-num_2\n",
    "elif choice == 3:\n",
    "    sum = num_1*num_2\n",
    "elif choice == 4:\n",
    "    sum = num_1/num_2\n",
    "elif choice == 5:\n",
    "    sum = num_1**num_2\n",
    "    \n",
    "print(f\"\\nAnswer : {sum}\")"
   ]
  },
  {
   "cell_type": "code",
   "execution_count": 9,
   "metadata": {},
   "outputs": [
    {
     "name": "stdout",
     "output_type": "stream",
     "text": [
      "Numeric value is found : 123\n"
     ]
    }
   ],
   "source": [
    "_list = [\"Asif Zameer\",  \"786\", 123,\"Pakistan\"]\n",
    "for value in _list:\n",
    "    if type(value) == int or type(value) == float:\n",
    "        print(f\"Numeric value is found : {value}\")\n",
    "        break"
   ]
  },
  {
   "cell_type": "code",
   "execution_count": 10,
   "metadata": {},
   "outputs": [
    {
     "name": "stdout",
     "output_type": "stream",
     "text": [
      "Key added\n"
     ]
    }
   ],
   "source": [
    "dic = {}\n",
    "dic[786] = \"Key added\"\n",
    "\n",
    "print(dic[786])"
   ]
  },
  {
   "cell_type": "code",
   "execution_count": 21,
   "metadata": {},
   "outputs": [
    {
     "name": "stdout",
     "output_type": "stream",
     "text": [
      "Sum = 203.6\n"
     ]
    }
   ],
   "source": [
    "result = 0\n",
    "dic = {1: 2 , 2: \"Asif Zameer\", 3: 78.6, 4:\"Imran Khan\", 5: 123}\n",
    "\n",
    "for value in dic.values():\n",
    "    if type(value) == int or type(value) == float:\n",
    "        result = result + value        \n",
    "        \n",
    "print(f\"Sum = {result}\")"
   ]
  },
  {
   "cell_type": "code",
   "execution_count": 17,
   "metadata": {},
   "outputs": [
    {
     "name": "stdout",
     "output_type": "stream",
     "text": [
      "Duplicated 4\n",
      "Duplicated 4\n"
     ]
    }
   ],
   "source": [
    "_list = [\"Asif Zameer\", \"Mehsud\", 25, 4, 78.6, 123.6, 4, 8, 1, 44, 75]\n",
    "for value in _list:\n",
    "    if  _list.count(value) > 1:\n",
    "        print(f\"Duplicated {value}\")"
   ]
  },
  {
   "cell_type": "code",
   "execution_count": 20,
   "metadata": {},
   "outputs": [
    {
     "name": "stdout",
     "output_type": "stream",
     "text": [
      "3 Already exists\n"
     ]
    }
   ],
   "source": [
    "dic = { 1: \"lock1\", 2: \"lock2\", 3: \"lock3\"}\n",
    "\n",
    "given_key = 3\n",
    "\n",
    "for key in dic.keys():\n",
    "    if key == given_key:\n",
    "        print(f\"{given_key} Already exists\")"
   ]
  }
 ],
 "metadata": {
  "kernelspec": {
   "display_name": "Python 3",
   "language": "python",
   "name": "python3"
  },
  "language_info": {
   "codemirror_mode": {
    "name": "ipython",
    "version": 3
   },
   "file_extension": ".py",
   "mimetype": "text/x-python",
   "name": "python",
   "nbconvert_exporter": "python",
   "pygments_lexer": "ipython3",
   "version": "3.7.5"
  }
 },
 "nbformat": 4,
 "nbformat_minor": 2
}
