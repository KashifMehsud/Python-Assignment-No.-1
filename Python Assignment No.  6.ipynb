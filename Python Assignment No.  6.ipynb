{
 "cells": [
  {
   "cell_type": "code",
   "execution_count": null,
   "metadata": {},
   "outputs": [],
   "source": [
    "# Question #1 - Define Object Oriented Programming Language?\n",
    "Object-oriented programming is a method of programming where a system is considered as a collection of objects that interact together to accomplish specific tasks. The primary purpose of object-oriented programming is to simplify the design, programming, and, most importantly, debugging a program. So to modify a particular data, it is easy to identify which function to use.\n",
    "\n",
    "Concepts in OOP:\n",
    "    \n",
    "Class\n",
    "Object\n",
    "Inheritance\n",
    "Polymorphism\n",
    "Abstraction\n",
    "Encapsulation\n",
    "\n",
    "Question #2 - List down the Benefits of OOP\n",
    "\n",
    "Code reuse & recycling\n",
    "readability of code\n",
    "software maintainability\n",
    "software-development productivity\n",
    "scalability of software development processes\n",
    "Lower cost of development\n",
    "Higher-quality software\n",
    "Faster development\n",
    "Data encapsulation\n",
    "\n",
    "Question #3 - Differentiate between function and method?\n",
    "\n",
    "Function\n",
    "A function is a block of code to carry out a specific task, will contain its own scope and is called by name. \n",
    "All functions may contain zero(no) arguments or more than one arguments. \n",
    "On exit, a function can or can not return one or more values.\n",
    "\n",
    "Method\n",
    "A method in python is somewhat similar to a function, except it is associated with object/classes. \n",
    "Methods in python are very similar to functions except for two major differences.\n",
    "\n",
    "The method is implicitly used for an object for which it is called.\n",
    "The method is accessible to data that is contained within the class.\n",
    "\n",
    "Question #4 - Define the following terms:\n",
    "\n",
    "1. Class\n",
    "2. Object\n",
    "3. Attribute\n",
    "4. Behavior\n",
    "\n",
    "1. Class\n",
    "A class describes the contents of the objects that belong to it; it represents an aggregate of data fields (called instance variables) and defines the operations (called methods).\n",
    "\n",
    "2. Object\n",
    "An object is an element (or instance) of a class; objects have the behaviors of their class. The object is the actual component of programs, while the class specifies how instances are created and how they behave.\n",
    "\n",
    "3. Attribute\n",
    "In object-oriented programming, classes and objects have attributes. Attributes are data stored inside a class or instance and represent the state or quality of the class or instance. In short, attributes store information about the instance.\n",
    "\n",
    "4. Behavior\n",
    "The term \"behavior\" refers to how objects interact with each other, and it is defined by the operations an object can perform.\n",
    "\n"
   ]
  },
  {
   "cell_type": "code",
   "execution_count": 13,
   "metadata": {},
   "outputs": [
    {
     "name": "stdout",
     "output_type": "stream",
     "text": [
      "Car Name:  Corolla Gli\n",
      "Car Model:  2019\n",
      "Car Color:  White\n",
      "Car Price:  27 lacs\n",
      "Car Manufacturer:  Corolla\n"
     ]
    }
   ],
   "source": [
    "class Car():\n",
    "    \n",
    "    def __init__(self, Name, Model, Color, Price, Manufacturer):\n",
    "        \n",
    "        self.Name = Name\n",
    "        self.Model = Model\n",
    "        self.Color = Color\n",
    "        self.Price = Price\n",
    "        self.Manufacturer = Manufacturer\n",
    "    \n",
    "    def updateModel(self, Model):\n",
    "        self.carModel = Model\n",
    "        \n",
    "    def updateCar(self, Car):\n",
    "        self.carName = newCar\n",
    "    \n",
    "    def updateColor(self, Color):\n",
    "        self.carColor = Color\n",
    "        \n",
    "car1 = Car('Corolla Gli', '2019', 'White', '27 lacs', 'Corolla')\n",
    "print(\"Car Name: \",car1.Name)\n",
    "print(\"Car Model: \",car1.Model)\n",
    "car1.updateColor('Grey')\n",
    "print(\"Car Color: \",car1.Color)\n",
    "print(\"Car Price: \",car1.Price)\n",
    "print(\"Car Manufacturer: \",car1.Manufacturer)"
   ]
  }
 ],
 "metadata": {
  "kernelspec": {
   "display_name": "Python 3",
   "language": "python",
   "name": "python3"
  },
  "language_info": {
   "codemirror_mode": {
    "name": "ipython",
    "version": 3
   },
   "file_extension": ".py",
   "mimetype": "text/x-python",
   "name": "python",
   "nbconvert_exporter": "python",
   "pygments_lexer": "ipython3",
   "version": "3.7.5"
  }
 },
 "nbformat": 4,
 "nbformat_minor": 2
}
