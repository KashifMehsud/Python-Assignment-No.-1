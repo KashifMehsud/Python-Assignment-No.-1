{
 "cells": [
  {
   "cell_type": "code",
   "execution_count": 1,
   "metadata": {},
   "outputs": [
    {
     "name": "stdout",
     "output_type": "stream",
     "text": [
      "Factorial Of: 456\n",
      "The Factorial Of 456 is:  150777392777717065903328562798297482932764849966301315324902295697797980802999492049275470580840593582700556154654997912467653672836190567363944536581444396786039028419417159553169852939652733499484374432647121409002713034716885273557660568294514238651304204026421026217797122437474581042706674997505548774529387552185264469304745879944335896334980134727576771262477699704913814778801164976379963316514713032786305083016847394455111607701177156363125206697642497352441989049637406799105387152093299654856194446887474831405921359722324720996553956200165400519069670468845686118517860926559421327845227712982865242890852011587912148558934925229259778865164753102371910801614732061965104129730561590839408147446252948841011789641706225763887234100676084552005497753764496546383864694159909979495432469993306110242973486330432796522331628915418533758582252153753291412897349335363154308911927972242304805109760000000000000000000000000000000000000000000000000000000000000000000000000000000000000000000000000000000000000000\n"
     ]
    }
   ],
   "source": [
    "import math \n",
    "  \n",
    "def function(number):\n",
    "\n",
    "      if userInput >= 0:\n",
    "            print(\"The Factorial Of\", userInput, \"is: \", math.factorial(number))\n",
    "\n",
    "      else:\n",
    "            print(\"Please Enter Positive Integer Number\")\n",
    "\n",
    "userInput = int(input(\"Factorial Of: \"))\n",
    "function(userInput)"
   ]
  },
  {
   "cell_type": "code",
   "execution_count": 2,
   "metadata": {},
   "outputs": [
    {
     "name": "stdout",
     "output_type": "stream",
     "text": [
      "Enter Your Words: ali\n",
      "No. of Upper case characters are: 0\n",
      "No. of lower case characters are: 3\n"
     ]
    }
   ],
   "source": [
    "def check(string):      \n",
    "    upper = sum(1 for i in string if i.isupper())\n",
    "    lower = sum(1 for i in string if i.islower())\n",
    "    print(\"No. of Upper case characters are: %s\" % (upper))\n",
    "    print(\"No. of lower case characters are: %s\" % (lower))\n",
    "\n",
    "userInput = input(\"Enter Your Words: \")\n",
    "check(userInput)"
   ]
  },
  {
   "cell_type": "code",
   "execution_count": 3,
   "metadata": {},
   "outputs": [
    {
     "name": "stdout",
     "output_type": "stream",
     "text": [
      "[42, 46, 116, 448, 140]\n"
     ]
    }
   ],
   "source": [
    "def check(even):\n",
    "    numbers = []\n",
    "    for i in even:\n",
    "        if i % 2 == 0:\n",
    "            numbers.append(i)\n",
    "    return numbers\n",
    "print(check([15, 42, 83, 46, 59,116, 17, 448, 19, 140]))"
   ]
  },
  {
   "cell_type": "code",
   "execution_count": 4,
   "metadata": {},
   "outputs": [
    {
     "name": "stdout",
     "output_type": "stream",
     "text": [
      "False\n"
     ]
    }
   ],
   "source": [
    "def Palindrome(string):\n",
    "    left_side = 0\n",
    "    right_side = len(string) - 1\n",
    "\n",
    "    while right_side >= left_side:\n",
    "        if not string[left_side] == string[right_side]:\n",
    "            return False\n",
    "        left_side += 1\n",
    "        right_side -= 1\n",
    "    return True\n",
    "print(Palindrome('Aki'))"
   ]
  },
  {
   "cell_type": "code",
   "execution_count": 5,
   "metadata": {},
   "outputs": [
    {
     "name": "stdout",
     "output_type": "stream",
     "text": [
      "Enter the number: 12\n",
      "not prime\n"
     ]
    }
   ],
   "source": [
    "def prime(number):\n",
    "    if (number==1):\n",
    "        return \"not prime\"\n",
    "    elif (number==2):\n",
    "        return \"Prime\"\n",
    "    else:\n",
    "        for x in range(2, number):\n",
    "            if(number % x==0):\n",
    "                return \"not prime\"\n",
    "        return \"Prime\"  \n",
    "\n",
    "userInput=int(input(\"Enter the number: \"))\n",
    "print(prime(userInput))"
   ]
  },
  {
   "cell_type": "code",
   "execution_count": 7,
   "metadata": {},
   "outputs": [
    {
     "name": "stdout",
     "output_type": "stream",
     "text": [
      "Your Shopping List are:\n",
      "chips\n",
      "Chocolate\n",
      "Milk\n",
      "Tomato\n",
      "Sugar\n",
      "Salt\n"
     ]
    }
   ],
   "source": [
    "\n",
    "print(\"Your Shopping List are:\")\n",
    "def shop(*products):\n",
    "    for product in products:\n",
    "           print(product)\n",
    "\n",
    "shop(\"chips\",\"Chocolate\",\"Milk\",\"Tomato\",\"Sugar\",\"Salt\")"
   ]
  }
 ],
 "metadata": {
  "kernelspec": {
   "display_name": "Python 3",
   "language": "python",
   "name": "python3"
  },
  "language_info": {
   "codemirror_mode": {
    "name": "ipython",
    "version": 3
   },
   "file_extension": ".py",
   "mimetype": "text/x-python",
   "name": "python",
   "nbconvert_exporter": "python",
   "pygments_lexer": "ipython3",
   "version": "3.7.5"
  }
 },
 "nbformat": 4,
 "nbformat_minor": 2
}
